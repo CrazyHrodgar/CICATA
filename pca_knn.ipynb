{
  "nbformat": 4,
  "nbformat_minor": 0,
  "metadata": {
    "colab": {
      "name": "pca-knn.ipynb",
      "provenance": [],
      "collapsed_sections": [],
      "authorship_tag": "ABX9TyOVaoMKG92DAB+m1kPzjdEG",
      "include_colab_link": true
    },
    "kernelspec": {
      "name": "python3",
      "display_name": "Python 3"
    }
  },
  "cells": [
    {
      "cell_type": "markdown",
      "metadata": {
        "id": "view-in-github",
        "colab_type": "text"
      },
      "source": [
        "<a href=\"https://colab.research.google.com/github/CrazyHrodgar/CICATA/blob/master/pca_knn.ipynb\" target=\"_parent\"><img src=\"https://colab.research.google.com/assets/colab-badge.svg\" alt=\"Open In Colab\"/></a>"
      ]
    },
    {
      "cell_type": "markdown",
      "metadata": {
        "id": "_cRc7h01lXbS"
      },
      "source": [
        "# Inicio del programa"
      ]
    },
    {
      "cell_type": "code",
      "metadata": {
        "id": "sCWTJZPqKSr2"
      },
      "source": [
        "import pandas as pd\r\n",
        "import numpy as np\r\n",
        "import matplotlib.pyplot as plt\r\n",
        "import seaborn as sns\r\n",
        "\r\n",
        "from sklearn.model_selection import train_test_split\r\n",
        "from sklearn.preprocessing import MinMaxScaler\r\n",
        "from sklearn.neighbors import KNeighborsClassifier\r\n",
        "from sklearn.metrics import classification_report\r\n",
        "from sklearn.metrics import confusion_matrix\r\n",
        "from sklearn.decomposition import PCA\r\n",
        "from sklearn.preprocessing import StandardScaler\r\n",
        "from sklearn.metrics import roc_auc_score, brier_score_loss\r\n",
        "\r\n",
        "from google.colab import files\r\n",
        "\r\n",
        "import math\r\n",
        "\r\n",
        "# Configurar el estilo de las gráficas\r\n",
        "plt.rcParams['figure.figsize'] = (16,9)\r\n",
        "plt.style.use('ggplot')"
      ],
      "execution_count": null,
      "outputs": []
    },
    {
      "cell_type": "code",
      "metadata": {
        "colab": {
          "resources": {
            "http://localhost:8080/nbextensions/google.colab/files.js": {
              "data": "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",
              "ok": true,
              "headers": [
                [
                  "content-type",
                  "application/javascript"
                ]
              ],
              "status": 200,
              "status_text": ""
            }
          },
          "base_uri": "https://localhost:8080/",
          "height": 72
        },
        "id": "jeRmhLIiLQXz",
        "outputId": "4d883ab2-cf57-47a0-c37d-6fb97f19f957"
      },
      "source": [
        "upload = files.upload()"
      ],
      "execution_count": null,
      "outputs": [
        {
          "output_type": "display_data",
          "data": {
            "text/html": [
              "\n",
              "     <input type=\"file\" id=\"files-8c43fd58-484d-41cf-b6f3-d88a0b0e34fb\" name=\"files[]\" multiple disabled\n",
              "        style=\"border:none\" />\n",
              "     <output id=\"result-8c43fd58-484d-41cf-b6f3-d88a0b0e34fb\">\n",
              "      Upload widget is only available when the cell has been executed in the\n",
              "      current browser session. Please rerun this cell to enable.\n",
              "      </output>\n",
              "      <script src=\"/nbextensions/google.colab/files.js\"></script> "
            ],
            "text/plain": [
              "<IPython.core.display.HTML object>"
            ]
          },
          "metadata": {
            "tags": []
          }
        },
        {
          "output_type": "stream",
          "text": [
            "Saving dataset.csv to dataset.csv\n"
          ],
          "name": "stdout"
        }
      ]
    },
    {
      "cell_type": "markdown",
      "metadata": {
        "id": "cZxpx3bHldYk"
      },
      "source": [
        "# Cargando y explorando la base de datos"
      ]
    },
    {
      "cell_type": "code",
      "metadata": {
        "colab": {
          "base_uri": "https://localhost:8080/",
          "height": 224
        },
        "id": "Mhno4ASNLU_a",
        "outputId": "6aca6db3-90d4-45e2-d9b1-4b00622785c7"
      },
      "source": [
        "dataframe = pd.read_csv('dataset.csv')\r\n",
        "dataframe.head()"
      ],
      "execution_count": null,
      "outputs": [
        {
          "output_type": "execute_result",
          "data": {
            "text/html": [
              "<div>\n",
              "<style scoped>\n",
              "    .dataframe tbody tr th:only-of-type {\n",
              "        vertical-align: middle;\n",
              "    }\n",
              "\n",
              "    .dataframe tbody tr th {\n",
              "        vertical-align: top;\n",
              "    }\n",
              "\n",
              "    .dataframe thead th {\n",
              "        text-align: right;\n",
              "    }\n",
              "</style>\n",
              "<table border=\"1\" class=\"dataframe\">\n",
              "  <thead>\n",
              "    <tr style=\"text-align: right;\">\n",
              "      <th></th>\n",
              "      <th>gender</th>\n",
              "      <th>age</th>\n",
              "      <th>xrjsl</th>\n",
              "      <th>xrjsm</th>\n",
              "      <th>xrsctm</th>\n",
              "      <th>xrsctl</th>\n",
              "      <th>xrcyfl</th>\n",
              "      <th>xrcyfm</th>\n",
              "      <th>xrscfl</th>\n",
              "      <th>xrscfm</th>\n",
              "      <th>xrchl</th>\n",
              "      <th>xrchm</th>\n",
              "      <th>painonlyprg</th>\n",
              "      <th>jspainprg</th>\n",
              "      <th>jsonlyprg</th>\n",
              "      <th>case</th>\n",
              "      <th>womadl</th>\n",
              "      <th>womkp</th>\n",
              "      <th>bmi</th>\n",
              "      <th>xrkl</th>\n",
              "    </tr>\n",
              "  </thead>\n",
              "  <tbody>\n",
              "    <tr>\n",
              "      <th>0</th>\n",
              "      <td>M</td>\n",
              "      <td>57</td>\n",
              "      <td>0</td>\n",
              "      <td>1</td>\n",
              "      <td>0</td>\n",
              "      <td>0</td>\n",
              "      <td>0</td>\n",
              "      <td>0</td>\n",
              "      <td>0</td>\n",
              "      <td>0</td>\n",
              "      <td>0</td>\n",
              "      <td>0</td>\n",
              "      <td>0</td>\n",
              "      <td>1</td>\n",
              "      <td>0</td>\n",
              "      <td>1</td>\n",
              "      <td>10.625</td>\n",
              "      <td>3</td>\n",
              "      <td>27.0</td>\n",
              "      <td>1</td>\n",
              "    </tr>\n",
              "    <tr>\n",
              "      <th>1</th>\n",
              "      <td>M</td>\n",
              "      <td>57</td>\n",
              "      <td>0</td>\n",
              "      <td>0</td>\n",
              "      <td>0</td>\n",
              "      <td>0</td>\n",
              "      <td>0</td>\n",
              "      <td>0</td>\n",
              "      <td>0</td>\n",
              "      <td>0</td>\n",
              "      <td>1</td>\n",
              "      <td>1</td>\n",
              "      <td>0</td>\n",
              "      <td>1</td>\n",
              "      <td>0</td>\n",
              "      <td>1</td>\n",
              "      <td>10.625</td>\n",
              "      <td>3</td>\n",
              "      <td>27.0</td>\n",
              "      <td>0</td>\n",
              "    </tr>\n",
              "    <tr>\n",
              "      <th>2</th>\n",
              "      <td>F</td>\n",
              "      <td>64</td>\n",
              "      <td>0</td>\n",
              "      <td>0</td>\n",
              "      <td>0</td>\n",
              "      <td>0</td>\n",
              "      <td>0</td>\n",
              "      <td>0</td>\n",
              "      <td>0</td>\n",
              "      <td>0</td>\n",
              "      <td>0</td>\n",
              "      <td>0</td>\n",
              "      <td>0</td>\n",
              "      <td>1</td>\n",
              "      <td>0</td>\n",
              "      <td>1</td>\n",
              "      <td>0.000</td>\n",
              "      <td>1</td>\n",
              "      <td>28.0</td>\n",
              "      <td>0</td>\n",
              "    </tr>\n",
              "    <tr>\n",
              "      <th>3</th>\n",
              "      <td>F</td>\n",
              "      <td>64</td>\n",
              "      <td>0</td>\n",
              "      <td>1</td>\n",
              "      <td>1</td>\n",
              "      <td>0</td>\n",
              "      <td>0</td>\n",
              "      <td>0</td>\n",
              "      <td>0</td>\n",
              "      <td>1</td>\n",
              "      <td>0</td>\n",
              "      <td>0</td>\n",
              "      <td>0</td>\n",
              "      <td>1</td>\n",
              "      <td>0</td>\n",
              "      <td>1</td>\n",
              "      <td>0.000</td>\n",
              "      <td>1</td>\n",
              "      <td>28.0</td>\n",
              "      <td>2</td>\n",
              "    </tr>\n",
              "    <tr>\n",
              "      <th>4</th>\n",
              "      <td>M</td>\n",
              "      <td>74</td>\n",
              "      <td>0</td>\n",
              "      <td>0</td>\n",
              "      <td>0</td>\n",
              "      <td>0</td>\n",
              "      <td>0</td>\n",
              "      <td>0</td>\n",
              "      <td>0</td>\n",
              "      <td>0</td>\n",
              "      <td>0</td>\n",
              "      <td>0</td>\n",
              "      <td>0</td>\n",
              "      <td>0</td>\n",
              "      <td>0</td>\n",
              "      <td>4</td>\n",
              "      <td>10.000</td>\n",
              "      <td>8</td>\n",
              "      <td>28.8</td>\n",
              "      <td>1</td>\n",
              "    </tr>\n",
              "  </tbody>\n",
              "</table>\n",
              "</div>"
            ],
            "text/plain": [
              "  gender  age  xrjsl  xrjsm  xrsctm  ...  case  womadl  womkp   bmi  xrkl\n",
              "0      M   57      0      1       0  ...     1  10.625      3  27.0     1\n",
              "1      M   57      0      0       0  ...     1  10.625      3  27.0     0\n",
              "2      F   64      0      0       0  ...     1   0.000      1  28.0     0\n",
              "3      F   64      0      1       1  ...     1   0.000      1  28.0     2\n",
              "4      M   74      0      0       0  ...     4  10.000      8  28.8     1\n",
              "\n",
              "[5 rows x 20 columns]"
            ]
          },
          "metadata": {
            "tags": []
          },
          "execution_count": 3
        }
      ]
    },
    {
      "cell_type": "code",
      "metadata": {
        "colab": {
          "base_uri": "https://localhost:8080/",
          "height": 317
        },
        "id": "cpF0z1EILhrF",
        "outputId": "f36b5b3a-66c5-45c1-c2dd-031a34997ac7"
      },
      "source": [
        "### Resumen estadístico de la base de datos\r\n",
        "dataframe.describe()"
      ],
      "execution_count": null,
      "outputs": [
        {
          "output_type": "execute_result",
          "data": {
            "text/html": [
              "<div>\n",
              "<style scoped>\n",
              "    .dataframe tbody tr th:only-of-type {\n",
              "        vertical-align: middle;\n",
              "    }\n",
              "\n",
              "    .dataframe tbody tr th {\n",
              "        vertical-align: top;\n",
              "    }\n",
              "\n",
              "    .dataframe thead th {\n",
              "        text-align: right;\n",
              "    }\n",
              "</style>\n",
              "<table border=\"1\" class=\"dataframe\">\n",
              "  <thead>\n",
              "    <tr style=\"text-align: right;\">\n",
              "      <th></th>\n",
              "      <th>age</th>\n",
              "      <th>xrjsl</th>\n",
              "      <th>xrjsm</th>\n",
              "      <th>xrsctm</th>\n",
              "      <th>xrsctl</th>\n",
              "      <th>xrcyfl</th>\n",
              "      <th>xrcyfm</th>\n",
              "      <th>xrscfl</th>\n",
              "      <th>xrscfm</th>\n",
              "      <th>xrchl</th>\n",
              "      <th>xrchm</th>\n",
              "      <th>painonlyprg</th>\n",
              "      <th>jspainprg</th>\n",
              "      <th>jsonlyprg</th>\n",
              "      <th>case</th>\n",
              "      <th>womadl</th>\n",
              "      <th>womkp</th>\n",
              "      <th>bmi</th>\n",
              "      <th>xrkl</th>\n",
              "    </tr>\n",
              "  </thead>\n",
              "  <tbody>\n",
              "    <tr>\n",
              "      <th>count</th>\n",
              "      <td>3459.000000</td>\n",
              "      <td>3459.000000</td>\n",
              "      <td>3459.000000</td>\n",
              "      <td>3459.000000</td>\n",
              "      <td>3459.000000</td>\n",
              "      <td>3459.0</td>\n",
              "      <td>3459.000000</td>\n",
              "      <td>3459.000000</td>\n",
              "      <td>3459.000000</td>\n",
              "      <td>3459.000000</td>\n",
              "      <td>3459.000000</td>\n",
              "      <td>3459.000000</td>\n",
              "      <td>3459.000000</td>\n",
              "      <td>3459.00000</td>\n",
              "      <td>3459.000000</td>\n",
              "      <td>3459.000000</td>\n",
              "      <td>3459.000000</td>\n",
              "      <td>3459.000000</td>\n",
              "      <td>3459.000000</td>\n",
              "    </tr>\n",
              "    <tr>\n",
              "      <th>mean</th>\n",
              "      <td>62.320324</td>\n",
              "      <td>0.058977</td>\n",
              "      <td>0.991038</td>\n",
              "      <td>0.672449</td>\n",
              "      <td>0.026019</td>\n",
              "      <td>0.0</td>\n",
              "      <td>0.015033</td>\n",
              "      <td>0.030356</td>\n",
              "      <td>0.632264</td>\n",
              "      <td>0.040763</td>\n",
              "      <td>0.035849</td>\n",
              "      <td>0.166522</td>\n",
              "      <td>0.326106</td>\n",
              "      <td>0.18329</td>\n",
              "      <td>2.488581</td>\n",
              "      <td>8.725660</td>\n",
              "      <td>2.546979</td>\n",
              "      <td>30.793119</td>\n",
              "      <td>2.031801</td>\n",
              "    </tr>\n",
              "    <tr>\n",
              "      <th>std</th>\n",
              "      <td>8.818868</td>\n",
              "      <td>0.323536</td>\n",
              "      <td>0.858517</td>\n",
              "      <td>0.829245</td>\n",
              "      <td>0.212165</td>\n",
              "      <td>0.0</td>\n",
              "      <td>0.121703</td>\n",
              "      <td>0.217651</td>\n",
              "      <td>0.813108</td>\n",
              "      <td>0.197770</td>\n",
              "      <td>0.185939</td>\n",
              "      <td>0.372603</td>\n",
              "      <td>0.468854</td>\n",
              "      <td>0.38696</td>\n",
              "      <td>1.245269</td>\n",
              "      <td>10.921078</td>\n",
              "      <td>3.297085</td>\n",
              "      <td>4.775966</td>\n",
              "      <td>0.946288</td>\n",
              "    </tr>\n",
              "    <tr>\n",
              "      <th>min</th>\n",
              "      <td>45.000000</td>\n",
              "      <td>0.000000</td>\n",
              "      <td>0.000000</td>\n",
              "      <td>0.000000</td>\n",
              "      <td>0.000000</td>\n",
              "      <td>0.0</td>\n",
              "      <td>0.000000</td>\n",
              "      <td>0.000000</td>\n",
              "      <td>0.000000</td>\n",
              "      <td>0.000000</td>\n",
              "      <td>0.000000</td>\n",
              "      <td>0.000000</td>\n",
              "      <td>0.000000</td>\n",
              "      <td>0.00000</td>\n",
              "      <td>1.000000</td>\n",
              "      <td>0.000000</td>\n",
              "      <td>0.000000</td>\n",
              "      <td>18.600000</td>\n",
              "      <td>0.000000</td>\n",
              "    </tr>\n",
              "    <tr>\n",
              "      <th>25%</th>\n",
              "      <td>55.000000</td>\n",
              "      <td>0.000000</td>\n",
              "      <td>0.000000</td>\n",
              "      <td>0.000000</td>\n",
              "      <td>0.000000</td>\n",
              "      <td>0.0</td>\n",
              "      <td>0.000000</td>\n",
              "      <td>0.000000</td>\n",
              "      <td>0.000000</td>\n",
              "      <td>0.000000</td>\n",
              "      <td>0.000000</td>\n",
              "      <td>0.000000</td>\n",
              "      <td>0.000000</td>\n",
              "      <td>0.00000</td>\n",
              "      <td>1.000000</td>\n",
              "      <td>0.000000</td>\n",
              "      <td>0.000000</td>\n",
              "      <td>27.500000</td>\n",
              "      <td>2.000000</td>\n",
              "    </tr>\n",
              "    <tr>\n",
              "      <th>50%</th>\n",
              "      <td>62.000000</td>\n",
              "      <td>0.000000</td>\n",
              "      <td>1.000000</td>\n",
              "      <td>0.000000</td>\n",
              "      <td>0.000000</td>\n",
              "      <td>0.0</td>\n",
              "      <td>0.000000</td>\n",
              "      <td>0.000000</td>\n",
              "      <td>0.000000</td>\n",
              "      <td>0.000000</td>\n",
              "      <td>0.000000</td>\n",
              "      <td>0.000000</td>\n",
              "      <td>0.000000</td>\n",
              "      <td>0.00000</td>\n",
              "      <td>2.000000</td>\n",
              "      <td>4.000000</td>\n",
              "      <td>1.000000</td>\n",
              "      <td>30.300000</td>\n",
              "      <td>2.000000</td>\n",
              "    </tr>\n",
              "    <tr>\n",
              "      <th>75%</th>\n",
              "      <td>70.000000</td>\n",
              "      <td>0.000000</td>\n",
              "      <td>2.000000</td>\n",
              "      <td>1.000000</td>\n",
              "      <td>0.000000</td>\n",
              "      <td>0.0</td>\n",
              "      <td>0.000000</td>\n",
              "      <td>0.000000</td>\n",
              "      <td>1.000000</td>\n",
              "      <td>0.000000</td>\n",
              "      <td>0.000000</td>\n",
              "      <td>0.000000</td>\n",
              "      <td>1.000000</td>\n",
              "      <td>0.00000</td>\n",
              "      <td>4.000000</td>\n",
              "      <td>14.000000</td>\n",
              "      <td>4.000000</td>\n",
              "      <td>33.800000</td>\n",
              "      <td>3.000000</td>\n",
              "    </tr>\n",
              "    <tr>\n",
              "      <th>max</th>\n",
              "      <td>80.000000</td>\n",
              "      <td>3.000000</td>\n",
              "      <td>3.000000</td>\n",
              "      <td>3.000000</td>\n",
              "      <td>3.000000</td>\n",
              "      <td>0.0</td>\n",
              "      <td>1.000000</td>\n",
              "      <td>3.000000</td>\n",
              "      <td>3.000000</td>\n",
              "      <td>1.000000</td>\n",
              "      <td>1.000000</td>\n",
              "      <td>1.000000</td>\n",
              "      <td>1.000000</td>\n",
              "      <td>1.00000</td>\n",
              "      <td>4.000000</td>\n",
              "      <td>57.000000</td>\n",
              "      <td>16.000000</td>\n",
              "      <td>46.700000</td>\n",
              "      <td>4.000000</td>\n",
              "    </tr>\n",
              "  </tbody>\n",
              "</table>\n",
              "</div>"
            ],
            "text/plain": [
              "               age        xrjsl  ...          bmi         xrkl\n",
              "count  3459.000000  3459.000000  ...  3459.000000  3459.000000\n",
              "mean     62.320324     0.058977  ...    30.793119     2.031801\n",
              "std       8.818868     0.323536  ...     4.775966     0.946288\n",
              "min      45.000000     0.000000  ...    18.600000     0.000000\n",
              "25%      55.000000     0.000000  ...    27.500000     2.000000\n",
              "50%      62.000000     0.000000  ...    30.300000     2.000000\n",
              "75%      70.000000     0.000000  ...    33.800000     3.000000\n",
              "max      80.000000     3.000000  ...    46.700000     4.000000\n",
              "\n",
              "[8 rows x 19 columns]"
            ]
          },
          "metadata": {
            "tags": []
          },
          "execution_count": 4
        }
      ]
    },
    {
      "cell_type": "code",
      "metadata": {
        "colab": {
          "base_uri": "https://localhost:8080/",
          "height": 282
        },
        "id": "LlUs5wulLoN1",
        "outputId": "1d9d2c93-6a49-450e-a310-35ac6d3df046"
      },
      "source": [
        "### Visualizando los datos...\r\n",
        "dataframe.hist('xrkl')\r\n",
        "plt.show()"
      ],
      "execution_count": null,
      "outputs": [
        {
          "output_type": "display_data",
          "data": {
            "image/png": "[encoded data removed]",
            "text/plain": [
              "<Figure size 432x288 with 1 Axes>"
            ]
          },
          "metadata": {
            "tags": [],
            "needs_background": "light"
          }
        }
      ]
    },
    {
      "cell_type": "markdown",
      "metadata": {
        "id": "hL_hO9zlOOVk"
      },
      "source": [
        "Los datos se ven desbalanceados por lo tanto se van a estadarizar"
      ]
    },
    {
      "cell_type": "markdown",
      "metadata": {
        "id": "3rOzaBzHPdta"
      },
      "source": [
        "Cambiamos la variable gender de texto a número\r\n",
        "\r\n",
        "M (male) --> 0\r\n",
        "\r\n",
        "F (female) --> 1"
      ]
    },
    {
      "cell_type": "code",
      "metadata": {
        "colab": {
          "base_uri": "https://localhost:8080/",
          "height": 224
        },
        "id": "L50Hkvo_Pebb",
        "outputId": "c09f0d79-f4db-4dca-e785-c72da5d732c3"
      },
      "source": [
        "clean_data = {\"gender\": {\"M\":0,\"F\":1}}\r\n",
        "data = dataframe.replace(clean_data)\r\n",
        "data.head()"
      ],
      "execution_count": null,
      "outputs": [
        {
          "output_type": "execute_result",
          "data": {
            "text/html": [
              "<div>\n",
              "<style scoped>\n",
              "    .dataframe tbody tr th:only-of-type {\n",
              "        vertical-align: middle;\n",
              "    }\n",
              "\n",
              "    .dataframe tbody tr th {\n",
              "        vertical-align: top;\n",
              "    }\n",
              "\n",
              "    .dataframe thead th {\n",
              "        text-align: right;\n",
              "    }\n",
              "</style>\n",
              "<table border=\"1\" class=\"dataframe\">\n",
              "  <thead>\n",
              "    <tr style=\"text-align: right;\">\n",
              "      <th></th>\n",
              "      <th>gender</th>\n",
              "      <th>age</th>\n",
              "      <th>xrjsl</th>\n",
              "      <th>xrjsm</th>\n",
              "      <th>xrsctm</th>\n",
              "      <th>xrsctl</th>\n",
              "      <th>xrcyfl</th>\n",
              "      <th>xrcyfm</th>\n",
              "      <th>xrscfl</th>\n",
              "      <th>xrscfm</th>\n",
              "      <th>xrchl</th>\n",
              "      <th>xrchm</th>\n",
              "      <th>painonlyprg</th>\n",
              "      <th>jspainprg</th>\n",
              "      <th>jsonlyprg</th>\n",
              "      <th>case</th>\n",
              "      <th>womadl</th>\n",
              "      <th>womkp</th>\n",
              "      <th>bmi</th>\n",
              "      <th>xrkl</th>\n",
              "    </tr>\n",
              "  </thead>\n",
              "  <tbody>\n",
              "    <tr>\n",
              "      <th>0</th>\n",
              "      <td>0</td>\n",
              "      <td>57</td>\n",
              "      <td>0</td>\n",
              "      <td>1</td>\n",
              "      <td>0</td>\n",
              "      <td>0</td>\n",
              "      <td>0</td>\n",
              "      <td>0</td>\n",
              "      <td>0</td>\n",
              "      <td>0</td>\n",
              "      <td>0</td>\n",
              "      <td>0</td>\n",
              "      <td>0</td>\n",
              "      <td>1</td>\n",
              "      <td>0</td>\n",
              "      <td>1</td>\n",
              "      <td>10.625</td>\n",
              "      <td>3</td>\n",
              "      <td>27.0</td>\n",
              "      <td>1</td>\n",
              "    </tr>\n",
              "    <tr>\n",
              "      <th>1</th>\n",
              "      <td>0</td>\n",
              "      <td>57</td>\n",
              "      <td>0</td>\n",
              "      <td>0</td>\n",
              "      <td>0</td>\n",
              "      <td>0</td>\n",
              "      <td>0</td>\n",
              "      <td>0</td>\n",
              "      <td>0</td>\n",
              "      <td>0</td>\n",
              "      <td>1</td>\n",
              "      <td>1</td>\n",
              "      <td>0</td>\n",
              "      <td>1</td>\n",
              "      <td>0</td>\n",
              "      <td>1</td>\n",
              "      <td>10.625</td>\n",
              "      <td>3</td>\n",
              "      <td>27.0</td>\n",
              "      <td>0</td>\n",
              "    </tr>\n",
              "    <tr>\n",
              "      <th>2</th>\n",
              "      <td>1</td>\n",
              "      <td>64</td>\n",
              "      <td>0</td>\n",
              "      <td>0</td>\n",
              "      <td>0</td>\n",
              "      <td>0</td>\n",
              "      <td>0</td>\n",
              "      <td>0</td>\n",
              "      <td>0</td>\n",
              "      <td>0</td>\n",
              "      <td>0</td>\n",
              "      <td>0</td>\n",
              "      <td>0</td>\n",
              "      <td>1</td>\n",
              "      <td>0</td>\n",
              "      <td>1</td>\n",
              "      <td>0.000</td>\n",
              "      <td>1</td>\n",
              "      <td>28.0</td>\n",
              "      <td>0</td>\n",
              "    </tr>\n",
              "    <tr>\n",
              "      <th>3</th>\n",
              "      <td>1</td>\n",
              "      <td>64</td>\n",
              "      <td>0</td>\n",
              "      <td>1</td>\n",
              "      <td>1</td>\n",
              "      <td>0</td>\n",
              "      <td>0</td>\n",
              "      <td>0</td>\n",
              "      <td>0</td>\n",
              "      <td>1</td>\n",
              "      <td>0</td>\n",
              "      <td>0</td>\n",
              "      <td>0</td>\n",
              "      <td>1</td>\n",
              "      <td>0</td>\n",
              "      <td>1</td>\n",
              "      <td>0.000</td>\n",
              "      <td>1</td>\n",
              "      <td>28.0</td>\n",
              "      <td>2</td>\n",
              "    </tr>\n",
              "    <tr>\n",
              "      <th>4</th>\n",
              "      <td>0</td>\n",
              "      <td>74</td>\n",
              "      <td>0</td>\n",
              "      <td>0</td>\n",
              "      <td>0</td>\n",
              "      <td>0</td>\n",
              "      <td>0</td>\n",
              "      <td>0</td>\n",
              "      <td>0</td>\n",
              "      <td>0</td>\n",
              "      <td>0</td>\n",
              "      <td>0</td>\n",
              "      <td>0</td>\n",
              "      <td>0</td>\n",
              "      <td>0</td>\n",
              "      <td>4</td>\n",
              "      <td>10.000</td>\n",
              "      <td>8</td>\n",
              "      <td>28.8</td>\n",
              "      <td>1</td>\n",
              "    </tr>\n",
              "  </tbody>\n",
              "</table>\n",
              "</div>"
            ],
            "text/plain": [
              "   gender  age  xrjsl  xrjsm  xrsctm  ...  case  womadl  womkp   bmi  xrkl\n",
              "0       0   57      0      1       0  ...     1  10.625      3  27.0     1\n",
              "1       0   57      0      0       0  ...     1  10.625      3  27.0     0\n",
              "2       1   64      0      0       0  ...     1   0.000      1  28.0     0\n",
              "3       1   64      0      1       1  ...     1   0.000      1  28.0     2\n",
              "4       0   74      0      0       0  ...     4  10.000      8  28.8     1\n",
              "\n",
              "[5 rows x 20 columns]"
            ]
          },
          "metadata": {
            "tags": []
          },
          "execution_count": 6
        }
      ]
    },
    {
      "cell_type": "markdown",
      "metadata": {
        "id": "hhGeK-LpljXd"
      },
      "source": [
        "# PCA"
      ]
    },
    {
      "cell_type": "code",
      "metadata": {
        "id": "PwRtWYxKMHvN"
      },
      "source": [
        "scaler = StandardScaler()\r\n",
        "df = data.drop(['xrkl'], axis=1) # Quitamos la variable de salida xrkl\r\n",
        "scaler.fit(df) # Se calcula la media para hacer las transformaciones\r\n",
        "x_scaled = scaler.transform(df) # Ahora se escalan los datos y se normalizan"
      ],
      "execution_count": null,
      "outputs": []
    },
    {
      "cell_type": "code",
      "metadata": {
        "colab": {
          "base_uri": "https://localhost:8080/"
        },
        "id": "J2KiS42mPV3M",
        "outputId": "bd7d88d1-f540-4f12-a9ee-c13e06728a3b"
      },
      "source": [
        "# pca = PCA(n_components=19) #n_components es el número total de filas de la dataset\r\n",
        "# En lugar de definir cuantos componentes queremos analizar, indicamos el nivel de explicabilidad que queremos lograr\r\n",
        "pca = PCA(0.90) \r\n",
        "pca.fit(x_scaled) # Obtenemos los componentes principales"
      ],
      "execution_count": null,
      "outputs": [
        {
          "output_type": "execute_result",
          "data": {
            "text/plain": [
              "PCA(copy=True, iterated_power='auto', n_components=0.9, random_state=None,\n",
              "    svd_solver='auto', tol=0.0, whiten=False)"
            ]
          },
          "metadata": {
            "tags": []
          },
          "execution_count": 8
        }
      ]
    },
    {
      "cell_type": "code",
      "metadata": {
        "colab": {
          "base_uri": "https://localhost:8080/"
        },
        "id": "dr8wJm56aXL6",
        "outputId": "83d64d68-78cc-41f6-de3b-42b0e77bd77d"
      },
      "source": [
        "X_pca = pca.transform(x_scaled)\r\n",
        "\r\n",
        "print(\"Shape of X_pca\", X_pca.shape)\r\n",
        "expl = pca.explained_variance_ratio_\r\n",
        "print(expl)\r\n",
        "print('suma: ', sum(expl[0:10]))"
      ],
      "execution_count": null,
      "outputs": [
        {
          "output_type": "stream",
          "text": [
            "Shape of X_pca (3459, 10)\n",
            "[0.17637725 0.14912749 0.11734134 0.10046991 0.08529509 0.06828272\n",
            " 0.05909707 0.05359279 0.05243268 0.0424092 ]\n",
            "suma:  0.9044255389347456\n"
          ],
          "name": "stdout"
        }
      ]
    },
    {
      "cell_type": "markdown",
      "metadata": {
        "id": "aLQQZh51RZBl"
      },
      "source": [
        "Con 10 componentes se puede explicar el 90% de la varianza"
      ]
    },
    {
      "cell_type": "code",
      "metadata": {
        "colab": {
          "base_uri": "https://localhost:8080/",
          "height": 282
        },
        "id": "qm5PyGOGRQJp",
        "outputId": "97c88dfa-6087-495e-8d67-6638b1040065"
      },
      "source": [
        "### Se grafica...\r\n",
        "plt.plot(np.cumsum(pca.explained_variance_ratio_))\r\n",
        "plt.xlabel('Number of components')\r\n",
        "plt.xlim([0,20])\r\n",
        "plt.ylabel('Varianza explicada explicada')\r\n",
        "plt.show()"
      ],
      "execution_count": null,
      "outputs": [
        {
          "output_type": "display_data",
          "data": {
            "image/png": "[encoded data removed]",
            "text/plain": [
              "<Figure size 432x288 with 1 Axes>"
            ]
          },
          "metadata": {
            "tags": [],
            "needs_background": "light"
          }
        }
      ]
    },
    {
      "cell_type": "markdown",
      "metadata": {
        "id": "EWsRz514lrmg"
      },
      "source": [
        "# Knn\r\n",
        "Crearemos dos clasificadores KNN, el primero con 5 (75% de explicabilidad) características principales y el otro con 10 (90% de explicabilidad). Después se comparan los resultados."
      ]
    },
    {
      "cell_type": "code",
      "metadata": {
        "colab": {
          "base_uri": "https://localhost:8080/",
          "height": 204
        },
        "id": "GwRgD77bcOhl",
        "outputId": "f636e7e9-6406-4691-c8d6-4476f233a766"
      },
      "source": [
        "# Crear el dataframe para el 75% de explicabilidad\r\n",
        "# la última columna será la variable de salida para el clasificador\r\n",
        "df75 = data[['womadl','age','womkp','bmi','case','xrjsm','xrscfm','xrkl']]\r\n",
        "df75.head()"
      ],
      "execution_count": null,
      "outputs": [
        {
          "output_type": "execute_result",
          "data": {
            "text/html": [
              "<div>\n",
              "<style scoped>\n",
              "    .dataframe tbody tr th:only-of-type {\n",
              "        vertical-align: middle;\n",
              "    }\n",
              "\n",
              "    .dataframe tbody tr th {\n",
              "        vertical-align: top;\n",
              "    }\n",
              "\n",
              "    .dataframe thead th {\n",
              "        text-align: right;\n",
              "    }\n",
              "</style>\n",
              "<table border=\"1\" class=\"dataframe\">\n",
              "  <thead>\n",
              "    <tr style=\"text-align: right;\">\n",
              "      <th></th>\n",
              "      <th>womadl</th>\n",
              "      <th>age</th>\n",
              "      <th>womkp</th>\n",
              "      <th>bmi</th>\n",
              "      <th>case</th>\n",
              "      <th>xrjsm</th>\n",
              "      <th>xrscfm</th>\n",
              "      <th>xrkl</th>\n",
              "    </tr>\n",
              "  </thead>\n",
              "  <tbody>\n",
              "    <tr>\n",
              "      <th>0</th>\n",
              "      <td>10.625</td>\n",
              "      <td>57</td>\n",
              "      <td>3</td>\n",
              "      <td>27.0</td>\n",
              "      <td>1</td>\n",
              "      <td>1</td>\n",
              "      <td>0</td>\n",
              "      <td>1</td>\n",
              "    </tr>\n",
              "    <tr>\n",
              "      <th>1</th>\n",
              "      <td>10.625</td>\n",
              "      <td>57</td>\n",
              "      <td>3</td>\n",
              "      <td>27.0</td>\n",
              "      <td>1</td>\n",
              "      <td>0</td>\n",
              "      <td>0</td>\n",
              "      <td>0</td>\n",
              "    </tr>\n",
              "    <tr>\n",
              "      <th>2</th>\n",
              "      <td>0.000</td>\n",
              "      <td>64</td>\n",
              "      <td>1</td>\n",
              "      <td>28.0</td>\n",
              "      <td>1</td>\n",
              "      <td>0</td>\n",
              "      <td>0</td>\n",
              "      <td>0</td>\n",
              "    </tr>\n",
              "    <tr>\n",
              "      <th>3</th>\n",
              "      <td>0.000</td>\n",
              "      <td>64</td>\n",
              "      <td>1</td>\n",
              "      <td>28.0</td>\n",
              "      <td>1</td>\n",
              "      <td>1</td>\n",
              "      <td>1</td>\n",
              "      <td>2</td>\n",
              "    </tr>\n",
              "    <tr>\n",
              "      <th>4</th>\n",
              "      <td>10.000</td>\n",
              "      <td>74</td>\n",
              "      <td>8</td>\n",
              "      <td>28.8</td>\n",
              "      <td>4</td>\n",
              "      <td>0</td>\n",
              "      <td>0</td>\n",
              "      <td>1</td>\n",
              "    </tr>\n",
              "  </tbody>\n",
              "</table>\n",
              "</div>"
            ],
            "text/plain": [
              "   womadl  age  womkp   bmi  case  xrjsm  xrscfm  xrkl\n",
              "0  10.625   57      3  27.0     1      1       0     1\n",
              "1  10.625   57      3  27.0     1      0       0     0\n",
              "2   0.000   64      1  28.0     1      0       0     0\n",
              "3   0.000   64      1  28.0     1      1       1     2\n",
              "4  10.000   74      8  28.8     4      0       0     1"
            ]
          },
          "metadata": {
            "tags": []
          },
          "execution_count": 11
        }
      ]
    },
    {
      "cell_type": "code",
      "metadata": {
        "colab": {
          "base_uri": "https://localhost:8080/",
          "height": 224
        },
        "id": "9Swbcl4XcOem",
        "outputId": "39311801-f319-49f7-8ee1-5f8b847a444d"
      },
      "source": [
        "# Crear el dataframe para el 90% de explicabilidad\r\n",
        "#la última columna será la variable de salida para el clasificador\r\n",
        "df90 = data[['womadl','age','womkp','bmi','case',\r\n",
        "             'xrjsm','xrscfm','gender','xrsctm','painonlyprg','xrkl']]\r\n",
        "\r\n",
        "df90.head()"
      ],
      "execution_count": null,
      "outputs": [
        {
          "output_type": "execute_result",
          "data": {
            "text/html": [
              "<div>\n",
              "<style scoped>\n",
              "    .dataframe tbody tr th:only-of-type {\n",
              "        vertical-align: middle;\n",
              "    }\n",
              "\n",
              "    .dataframe tbody tr th {\n",
              "        vertical-align: top;\n",
              "    }\n",
              "\n",
              "    .dataframe thead th {\n",
              "        text-align: right;\n",
              "    }\n",
              "</style>\n",
              "<table border=\"1\" class=\"dataframe\">\n",
              "  <thead>\n",
              "    <tr style=\"text-align: right;\">\n",
              "      <th></th>\n",
              "      <th>womadl</th>\n",
              "      <th>age</th>\n",
              "      <th>womkp</th>\n",
              "      <th>bmi</th>\n",
              "      <th>case</th>\n",
              "      <th>xrjsm</th>\n",
              "      <th>xrscfm</th>\n",
              "      <th>gender</th>\n",
              "      <th>xrsctm</th>\n",
              "      <th>painonlyprg</th>\n",
              "      <th>xrkl</th>\n",
              "    </tr>\n",
              "  </thead>\n",
              "  <tbody>\n",
              "    <tr>\n",
              "      <th>0</th>\n",
              "      <td>10.625</td>\n",
              "      <td>57</td>\n",
              "      <td>3</td>\n",
              "      <td>27.0</td>\n",
              "      <td>1</td>\n",
              "      <td>1</td>\n",
              "      <td>0</td>\n",
              "      <td>0</td>\n",
              "      <td>0</td>\n",
              "      <td>0</td>\n",
              "      <td>1</td>\n",
              "    </tr>\n",
              "    <tr>\n",
              "      <th>1</th>\n",
              "      <td>10.625</td>\n",
              "      <td>57</td>\n",
              "      <td>3</td>\n",
              "      <td>27.0</td>\n",
              "      <td>1</td>\n",
              "      <td>0</td>\n",
              "      <td>0</td>\n",
              "      <td>0</td>\n",
              "      <td>0</td>\n",
              "      <td>0</td>\n",
              "      <td>0</td>\n",
              "    </tr>\n",
              "    <tr>\n",
              "      <th>2</th>\n",
              "      <td>0.000</td>\n",
              "      <td>64</td>\n",
              "      <td>1</td>\n",
              "      <td>28.0</td>\n",
              "      <td>1</td>\n",
              "      <td>0</td>\n",
              "      <td>0</td>\n",
              "      <td>1</td>\n",
              "      <td>0</td>\n",
              "      <td>0</td>\n",
              "      <td>0</td>\n",
              "    </tr>\n",
              "    <tr>\n",
              "      <th>3</th>\n",
              "      <td>0.000</td>\n",
              "      <td>64</td>\n",
              "      <td>1</td>\n",
              "      <td>28.0</td>\n",
              "      <td>1</td>\n",
              "      <td>1</td>\n",
              "      <td>1</td>\n",
              "      <td>1</td>\n",
              "      <td>1</td>\n",
              "      <td>0</td>\n",
              "      <td>2</td>\n",
              "    </tr>\n",
              "    <tr>\n",
              "      <th>4</th>\n",
              "      <td>10.000</td>\n",
              "      <td>74</td>\n",
              "      <td>8</td>\n",
              "      <td>28.8</td>\n",
              "      <td>4</td>\n",
              "      <td>0</td>\n",
              "      <td>0</td>\n",
              "      <td>0</td>\n",
              "      <td>0</td>\n",
              "      <td>0</td>\n",
              "      <td>1</td>\n",
              "    </tr>\n",
              "  </tbody>\n",
              "</table>\n",
              "</div>"
            ],
            "text/plain": [
              "   womadl  age  womkp   bmi  case  ...  xrscfm  gender  xrsctm  painonlyprg  xrkl\n",
              "0  10.625   57      3  27.0     1  ...       0       0       0            0     1\n",
              "1  10.625   57      3  27.0     1  ...       0       0       0            0     0\n",
              "2   0.000   64      1  28.0     1  ...       0       1       0            0     0\n",
              "3   0.000   64      1  28.0     1  ...       1       1       1            0     2\n",
              "4  10.000   74      8  28.8     4  ...       0       0       0            0     1\n",
              "\n",
              "[5 rows x 11 columns]"
            ]
          },
          "metadata": {
            "tags": []
          },
          "execution_count": 12
        }
      ]
    },
    {
      "cell_type": "code",
      "metadata": {
        "id": "O26FrvdqcOaN"
      },
      "source": [
        "X75 = data[['womadl','age','womkp','bmi','case','xrjsm','xrscfm']] # Variables de entrada\r\n",
        "y75 = df75[['xrkl']] # Variable de salida\r\n",
        "\r\n",
        "X_train75, X_test75, y_train75, y_test75 = train_test_split(X75, y75, random_state=0)\r\n",
        "scaler = MinMaxScaler()\r\n",
        "X_train75 = scaler.fit_transform(X_train75)\r\n",
        "X_test75 = scaler.transform(X_test75)"
      ],
      "execution_count": null,
      "outputs": []
    },
    {
      "cell_type": "markdown",
      "metadata": {
        "id": "RXMPb4d7rKPy"
      },
      "source": [
        "Antes de comenzar el proceso de entrenamiento conviene averiguar con cuántos neighbors (vecinos) será óptimo el resulado. En este caso, con dos vecinos se logra un 79% de exactitud."
      ]
    },
    {
      "cell_type": "code",
      "metadata": {
        "colab": {
          "base_uri": "https://localhost:8080/",
          "height": 557
        },
        "id": "OciFQeH_cOTH",
        "outputId": "11ff48c9-2ce3-4075-9503-c5f74ae93bcf"
      },
      "source": [
        "k_range = range(1, 5)\r\n",
        "scores = []\r\n",
        "for k in k_range:\r\n",
        "    knn = KNeighborsClassifier(n_neighbors = k)\r\n",
        "    knn.fit(X_train75, y_train75)\r\n",
        "    scores.append(knn.score(X_test75, y_test75))\r\n",
        "plt.figure()\r\n",
        "plt.xlabel('k')\r\n",
        "plt.ylabel('accuracy')\r\n",
        "plt.scatter(k_range, scores)\r\n",
        "plt.xticks([0,1,2,3,4,5])"
      ],
      "execution_count": null,
      "outputs": [
        {
          "output_type": "stream",
          "text": [
            "/usr/local/lib/python3.7/dist-packages/ipykernel_launcher.py:5: DataConversionWarning: A column-vector y was passed when a 1d array was expected. Please change the shape of y to (n_samples, ), for example using ravel().\n",
            "  \"\"\"\n",
            "/usr/local/lib/python3.7/dist-packages/ipykernel_launcher.py:5: DataConversionWarning: A column-vector y was passed when a 1d array was expected. Please change the shape of y to (n_samples, ), for example using ravel().\n",
            "  \"\"\"\n",
            "/usr/local/lib/python3.7/dist-packages/ipykernel_launcher.py:5: DataConversionWarning: A column-vector y was passed when a 1d array was expected. Please change the shape of y to (n_samples, ), for example using ravel().\n",
            "  \"\"\"\n",
            "/usr/local/lib/python3.7/dist-packages/ipykernel_launcher.py:5: DataConversionWarning: A column-vector y was passed when a 1d array was expected. Please change the shape of y to (n_samples, ), for example using ravel().\n",
            "  \"\"\"\n"
          ],
          "name": "stderr"
        },
        {
          "output_type": "execute_result",
          "data": {
            "text/plain": [
              "([<matplotlib.axis.XTick at 0x7fa286922650>,\n",
              "  <matplotlib.axis.XTick at 0x7fa286922610>,\n",
              "  <matplotlib.axis.XTick at 0x7fa2869221d0>,\n",
              "  <matplotlib.axis.XTick at 0x7fa2868c5dd0>,\n",
              "  <matplotlib.axis.XTick at 0x7fa2868d7590>,\n",
              "  <matplotlib.axis.XTick at 0x7fa2868d7ad0>],\n",
              " <a list of 6 Text major ticklabel objects>)"
            ]
          },
          "metadata": {
            "tags": []
          },
          "execution_count": 14
        },
        {
          "output_type": "display_data",
          "data": {
            "image/png": "[encoded data removed]",
            "text/plain": [
              "<Figure size 432x288 with 1 Axes>"
            ]
          },
          "metadata": {
            "tags": [],
            "needs_background": "light"
          }
        }
      ]
    },
    {
      "cell_type": "code",
      "metadata": {
        "colab": {
          "base_uri": "https://localhost:8080/"
        },
        "id": "Db4SyZDJriuh",
        "outputId": "2f37b918-132a-4768-d0a1-b0db3fe274da"
      },
      "source": [
        "n_neighbors = 3\r\n",
        "\r\n",
        "knn75 = KNeighborsClassifier(n_neighbors)\r\n",
        "knn75.fit(X_train75, y_train75)\r\n",
        "print('Accuracy del KNN en entrenamiento: {:.2f}'.format(knn75.score(X_train75, y_train75)))\r\n",
        "print('Accuracy del KNN en test: {:.2f}'.format(knn75.score(X_test75, y_test75)))"
      ],
      "execution_count": null,
      "outputs": [
        {
          "output_type": "stream",
          "text": [
            "Accuracy del KNN en entrenamiento: 0.89\n",
            "Accuracy del KNN en test: 0.77\n"
          ],
          "name": "stdout"
        },
        {
          "output_type": "stream",
          "text": [
            "/usr/local/lib/python3.7/dist-packages/ipykernel_launcher.py:4: DataConversionWarning: A column-vector y was passed when a 1d array was expected. Please change the shape of y to (n_samples, ), for example using ravel().\n",
            "  after removing the cwd from sys.path.\n"
          ],
          "name": "stderr"
        }
      ]
    },
    {
      "cell_type": "code",
      "metadata": {
        "colab": {
          "base_uri": "https://localhost:8080/"
        },
        "id": "i5zDwQnxripK",
        "outputId": "08c05cfd-167a-468f-a35e-ee74fac9aee1"
      },
      "source": [
        "### Precisión para el 75% de explicabilidad\r\n",
        "pred = knn75.predict(X_test75)\r\n",
        "print(confusion_matrix(y_test75, pred))\r\n",
        "print(classification_report(y_test75, pred))"
      ],
      "execution_count": null,
      "outputs": [
        {
          "output_type": "stream",
          "text": [
            "[[ 50   4  27   0   0]\n",
            " [ 10  39  52   4   0]\n",
            " [ 38  36 311   3   0]\n",
            " [  2   0   4 251   6]\n",
            " [  1   1   1   6  19]]\n",
            "              precision    recall  f1-score   support\n",
            "\n",
            "           0       0.50      0.62      0.55        81\n",
            "           1       0.49      0.37      0.42       105\n",
            "           2       0.79      0.80      0.79       388\n",
            "           3       0.95      0.95      0.95       263\n",
            "           4       0.76      0.68      0.72        28\n",
            "\n",
            "    accuracy                           0.77       865\n",
            "   macro avg       0.70      0.68      0.69       865\n",
            "weighted avg       0.77      0.77      0.77       865\n",
            "\n"
          ],
          "name": "stdout"
        }
      ]
    },
    {
      "cell_type": "code",
      "metadata": {
        "id": "dBUUpz2primW"
      },
      "source": [
        "### KNN para el 90% de explicabilidad\r\n",
        "X90 = df90[['womadl','age','womkp','bmi','case',\r\n",
        "             'xrjsm','xrscfm','gender','xrsctm','painonlyprg']] # Variables de entrada\r\n",
        "y90 = df90[['xrkl']] # Variable de salida\r\n",
        "\r\n",
        "X_train90, X_test90, y_train90, y_test90 = train_test_split(X90, y90, random_state=0)\r\n",
        "scaler = MinMaxScaler()\r\n",
        "X_train90 = scaler.fit_transform(X_train90)\r\n",
        "X_test90 = scaler.transform(X_test90)"
      ],
      "execution_count": null,
      "outputs": []
    },
    {
      "cell_type": "code",
      "metadata": {
        "colab": {
          "base_uri": "https://localhost:8080/",
          "height": 727
        },
        "id": "fiIyfkRUrijX",
        "outputId": "a8824de9-3e3e-491c-b922-a3d28f3786c5"
      },
      "source": [
        "k_range = range(1, 10)\r\n",
        "scores = []\r\n",
        "for k in k_range:\r\n",
        "    knn = KNeighborsClassifier(n_neighbors = k)\r\n",
        "    knn.fit(X_train90, y_train90)\r\n",
        "    scores.append(knn.score(X_test90, y_test90))\r\n",
        "plt.figure()\r\n",
        "plt.xlabel('k')\r\n",
        "plt.ylabel('accuracy')\r\n",
        "plt.scatter(k_range, scores)\r\n",
        "plt.xticks([0,2,4,6,8,10])"
      ],
      "execution_count": null,
      "outputs": [
        {
          "output_type": "stream",
          "text": [
            "/usr/local/lib/python3.7/dist-packages/ipykernel_launcher.py:5: DataConversionWarning: A column-vector y was passed when a 1d array was expected. Please change the shape of y to (n_samples, ), for example using ravel().\n",
            "  \"\"\"\n",
            "/usr/local/lib/python3.7/dist-packages/ipykernel_launcher.py:5: DataConversionWarning: A column-vector y was passed when a 1d array was expected. Please change the shape of y to (n_samples, ), for example using ravel().\n",
            "  \"\"\"\n",
            "/usr/local/lib/python3.7/dist-packages/ipykernel_launcher.py:5: DataConversionWarning: A column-vector y was passed when a 1d array was expected. Please change the shape of y to (n_samples, ), for example using ravel().\n",
            "  \"\"\"\n",
            "/usr/local/lib/python3.7/dist-packages/ipykernel_launcher.py:5: DataConversionWarning: A column-vector y was passed when a 1d array was expected. Please change the shape of y to (n_samples, ), for example using ravel().\n",
            "  \"\"\"\n",
            "/usr/local/lib/python3.7/dist-packages/ipykernel_launcher.py:5: DataConversionWarning: A column-vector y was passed when a 1d array was expected. Please change the shape of y to (n_samples, ), for example using ravel().\n",
            "  \"\"\"\n",
            "/usr/local/lib/python3.7/dist-packages/ipykernel_launcher.py:5: DataConversionWarning: A column-vector y was passed when a 1d array was expected. Please change the shape of y to (n_samples, ), for example using ravel().\n",
            "  \"\"\"\n",
            "/usr/local/lib/python3.7/dist-packages/ipykernel_launcher.py:5: DataConversionWarning: A column-vector y was passed when a 1d array was expected. Please change the shape of y to (n_samples, ), for example using ravel().\n",
            "  \"\"\"\n",
            "/usr/local/lib/python3.7/dist-packages/ipykernel_launcher.py:5: DataConversionWarning: A column-vector y was passed when a 1d array was expected. Please change the shape of y to (n_samples, ), for example using ravel().\n",
            "  \"\"\"\n",
            "/usr/local/lib/python3.7/dist-packages/ipykernel_launcher.py:5: DataConversionWarning: A column-vector y was passed when a 1d array was expected. Please change the shape of y to (n_samples, ), for example using ravel().\n",
            "  \"\"\"\n"
          ],
          "name": "stderr"
        },
        {
          "output_type": "execute_result",
          "data": {
            "text/plain": [
              "([<matplotlib.axis.XTick at 0x7fa28685bd10>,\n",
              "  <matplotlib.axis.XTick at 0x7fa28685b650>,\n",
              "  <matplotlib.axis.XTick at 0x7fa28685bb50>,\n",
              "  <matplotlib.axis.XTick at 0x7fa2868259d0>,\n",
              "  <matplotlib.axis.XTick at 0x7fa286825f10>,\n",
              "  <matplotlib.axis.XTick at 0x7fa28682c310>],\n",
              " <a list of 6 Text major ticklabel objects>)"
            ]
          },
          "metadata": {
            "tags": []
          },
          "execution_count": 18
        },
        {
          "output_type": "display_data",
          "data": {
            "image/png": "[encoded data removed]",
            "text/plain": [
              "<Figure size 432x288 with 1 Axes>"
            ]
          },
          "metadata": {
            "tags": [],
            "needs_background": "light"
          }
        }
      ]
    },
    {
      "cell_type": "code",
      "metadata": {
        "colab": {
          "base_uri": "https://localhost:8080/"
        },
        "id": "wz9kM-TVrigU",
        "outputId": "ff851f12-e897-409e-b266-909108c5e47f"
      },
      "source": [
        "n_neighbors = 2\r\n",
        "\r\n",
        "knn90 = KNeighborsClassifier(n_neighbors)\r\n",
        "knn90.fit(X_train90, y_train90)\r\n",
        "print('Accuracy del KNN en entrenamiento: {:.2f}'.format(knn90.score(X_train90, y_train90)))\r\n",
        "print('Accuracy del KNN en test: {:.2f}'.format(knn90.score(X_test90, y_test90)))"
      ],
      "execution_count": null,
      "outputs": [
        {
          "output_type": "stream",
          "text": [
            "Accuracy del KNN en entrenamiento: 0.91\n",
            "Accuracy del KNN en test: 0.80\n"
          ],
          "name": "stdout"
        },
        {
          "output_type": "stream",
          "text": [
            "/usr/local/lib/python3.7/dist-packages/ipykernel_launcher.py:4: DataConversionWarning: A column-vector y was passed when a 1d array was expected. Please change the shape of y to (n_samples, ), for example using ravel().\n",
            "  after removing the cwd from sys.path.\n"
          ],
          "name": "stderr"
        }
      ]
    },
    {
      "cell_type": "code",
      "metadata": {
        "colab": {
          "base_uri": "https://localhost:8080/"
        },
        "id": "TEK_1lykrido",
        "outputId": "f978547f-0b58-4ff9-b226-06583c1f14e9"
      },
      "source": [
        "### Precisión para el 90% de explicabilidad\r\n",
        "pred90 = knn90.predict(X_test90)\r\n",
        "print(confusion_matrix(y_test90, pred90))\r\n",
        "print(classification_report(y_test90, pred90))"
      ],
      "execution_count": null,
      "outputs": [
        {
          "output_type": "stream",
          "text": [
            "[[ 66   6   9   0   0]\n",
            " [  6  70  29   0   0]\n",
            " [ 43  51 293   1   0]\n",
            " [  0   2   8 251   2]\n",
            " [  0   1   1  13  13]]\n",
            "              precision    recall  f1-score   support\n",
            "\n",
            "           0       0.57      0.81      0.67        81\n",
            "           1       0.54      0.67      0.60       105\n",
            "           2       0.86      0.76      0.80       388\n",
            "           3       0.95      0.95      0.95       263\n",
            "           4       0.87      0.46      0.60        28\n",
            "\n",
            "    accuracy                           0.80       865\n",
            "   macro avg       0.76      0.73      0.73       865\n",
            "weighted avg       0.82      0.80      0.81       865\n",
            "\n"
          ],
          "name": "stdout"
        }
      ]
    },
    {
      "cell_type": "code",
      "metadata": {
        "colab": {
          "base_uri": "https://localhost:8080/"
        },
        "id": "nOoFtNrHria2",
        "outputId": "a12edc4f-4d53-45c2-ca25-34385c80cbef"
      },
      "source": [
        "print(classification_report(y_test75, pred))"
      ],
      "execution_count": null,
      "outputs": [
        {
          "output_type": "stream",
          "text": [
            "              precision    recall  f1-score   support\n",
            "\n",
            "           0       0.50      0.62      0.55        81\n",
            "           1       0.49      0.37      0.42       105\n",
            "           2       0.79      0.80      0.79       388\n",
            "           3       0.95      0.95      0.95       263\n",
            "           4       0.76      0.68      0.72        28\n",
            "\n",
            "    accuracy                           0.77       865\n",
            "   macro avg       0.70      0.68      0.69       865\n",
            "weighted avg       0.77      0.77      0.77       865\n",
            "\n"
          ],
          "name": "stdout"
        }
      ]
    },
    {
      "cell_type": "code",
      "metadata": {
        "id": "TysaXRA-riYD"
      },
      "source": [
        "# ### ROC y Brier score para el 75% de variabilidad\r\n",
        "# roc75 = roc_auc_score(y_test75, pred)\r\n",
        "# print(roc75)\r\n",
        "# brier75 = brier_score_loss(y_test75, pred)\r\n",
        "# print(brier75)"
      ],
      "execution_count": null,
      "outputs": []
    },
    {
      "cell_type": "code",
      "metadata": {
        "id": "JPtb_mFncAvs"
      },
      "source": [
        "# ### ROC y Brier score para el 90% de variabilidad\r\n",
        "# roc90 = roc_auc_score(y_test90, pred90)\r\n",
        "# print(roc90)\r\n",
        "# brier75 = brier_score_loss(y_test90, pred90)\r\n",
        "# print(brier90)"
      ],
      "execution_count": null,
      "outputs": []
    },
    {
      "cell_type": "markdown",
      "metadata": {
        "id": "9UofQsdwcLbb"
      },
      "source": [
        "# KNN regresor\r\n",
        "Usar un modelo KNN para predicir los valores"
      ]
    },
    {
      "cell_type": "code",
      "metadata": {
        "colab": {
          "base_uri": "https://localhost:8080/"
        },
        "id": "0q_ZJ_19cKuJ",
        "outputId": "80438743-34b2-47c7-c987-2ed9cf49d2b0"
      },
      "source": [
        "from sklearn.neighbors import KNeighborsRegressor\r\n",
        "XR75 = X_train75\r\n",
        "YR75 = y_train75\r\n",
        "kr75 = KNeighborsRegressor(n_neighbors=3)\r\n",
        "kr75.fit(XR75, YR75)\r\n",
        "\r\n",
        "print('Accuracy del KNN en entrenamiento: {:.2f}'.format(kr75.score(XR75,YR75)))"
      ],
      "execution_count": null,
      "outputs": [
        {
          "output_type": "stream",
          "text": [
            "Accuracy del KNN en entrenamiento: 0.83\n"
          ],
          "name": "stdout"
        }
      ]
    },
    {
      "cell_type": "code",
      "metadata": {
        "colab": {
          "base_uri": "https://localhost:8080/"
        },
        "id": "jO1AVeHxddNd",
        "outputId": "1ded1ec6-517d-4446-cb22-877597dea90a"
      },
      "source": [
        "XR90 = X_train90\r\n",
        "YR90 = y_train90\r\n",
        "kr90 = KNeighborsRegressor(n_neighbors=2)\r\n",
        "kr90.fit(XR90, YR90)\r\n",
        "\r\n",
        "print('Accuracy del KNN en entrenamiento: {:.2f}'.format(knn90.score(XR90, YR90)))"
      ],
      "execution_count": null,
      "outputs": [
        {
          "output_type": "stream",
          "text": [
            "Accuracy del KNN en entrenamiento: 0.91\n"
          ],
          "name": "stdout"
        }
      ]
    }
  ]
}